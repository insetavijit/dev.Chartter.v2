{
 "cells": [
  {
   "cell_type": "code",
   "execution_count": null,
   "id": "5fa013d1",
   "metadata": {},
   "outputs": [],
   "source": [
    "import pandas as pd\n",
    "\n",
    "\n",
    "# Load CSV\n",
    "fileSrc = './src/'\n",
    "fileName = 'DAT_ASCII_XAUUSD_M1_2024'\n",
    "fileext = '.csv'\n",
    "\n",
    "filePath = fileSrc + fileName + fileext\n",
    "\n",
    "headers = [\"datetime\",\"open\",\"high\",\"low\",\"close\" , \"vol\"]\n",
    "\n",
    "ohlc = pd.read_csv(filePath, sep=';',header=None, names=headers)\n",
    "\n",
    "# Convert DateTime column to datetime and set as index\n",
    "# ohlc['DateTime'] = pd.to_datetime(ohlc['DateTime'])\n",
    "# ohlc = ohlc.set_index('DateTime')\n",
    "\n",
    "print (ohlc.shape)"
   ]
  },
  {
   "cell_type": "code",
   "execution_count": null,
   "id": "aada6454",
   "metadata": {},
   "outputs": [],
   "source": [
    "print (ohlc.head(3))"
   ]
  },
  {
   "cell_type": "code",
   "execution_count": null,
   "id": "e6316694",
   "metadata": {},
   "outputs": [],
   "source": [
    "\n",
    "# Make sure pyarrow or fastparquet is installed: pip install pyarrow\n",
    "ohlc.to_parquet(fileName + \".parquet\", engine=\"pyarrow\", index=False)\n"
   ]
  },
  {
   "cell_type": "code",
   "execution_count": null,
   "id": "7d26d7ca",
   "metadata": {},
   "outputs": [],
   "source": [
    "# --- Step 6: Read back quickly ---\n",
    "df_fast = pd.read_parquet(fileName + \".parquet\", engine=\"pyarrow\")\n",
    "print(df_fast.head())"
   ]
  }
 ],
 "metadata": {
  "kernelspec": {
   "display_name": "Chartter-2",
   "language": "python",
   "name": "myproject"
  },
  "language_info": {
   "codemirror_mode": {
    "name": "ipython",
    "version": 3
   },
   "file_extension": ".py",
   "mimetype": "text/x-python",
   "name": "python",
   "nbconvert_exporter": "python",
   "pygments_lexer": "ipython3",
   "version": "3.13.0"
  }
 },
 "nbformat": 4,
 "nbformat_minor": 5
}
