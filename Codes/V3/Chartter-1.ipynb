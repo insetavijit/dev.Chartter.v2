{
 "cells": [
  {
   "cell_type": "code",
   "execution_count": null,
   "id": "2c5995ff",
   "metadata": {},
   "outputs": [],
   "source": [
    "print(\"HI\")"
   ]
  },
  {
   "cell_type": "code",
   "execution_count": null,
   "metadata": {},
   "outputs": [],
   "source": [
    "import pandas as pd\n",
    "\n",
    "dta_4H = pd.read_parquet(\"./src/DAT_ASCII_XAUUSD_H4_2024.parquet\")\n",
    "dta_15M = pd.read_parquet(\"./src/DAT_ASCII_XAUUSD_15M_2024.parquet\")\n",
    "dta_1M = pd.read_parquet(\"./src/DAT_ASCII_XAUUSD_1M_NOV1STW.parquet\")"
   ]
  }
 ],
 "metadata": {
  "kernelspec": {
   "display_name": "Chartter-2",
   "language": "python",
   "name": "myproject"
  },
  "language_info": {
   "codemirror_mode": {
    "name": "ipython",
    "version": 3
   },
   "file_extension": ".py",
   "mimetype": "text/x-python",
   "name": "python",
   "nbconvert_exporter": "python",
   "pygments_lexer": "ipython3",
   "version": "3.13.0"
  }
 },
 "nbformat": 4,
 "nbformat_minor": 5
}
