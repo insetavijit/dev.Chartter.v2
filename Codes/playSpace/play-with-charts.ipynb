{
 "cells": [
  {
   "cell_type": "code",
   "execution_count": null,
   "id": "a406b639",
   "metadata": {},
   "outputs": [],
   "source": [
    "\"\"\" data loading and improting numbpy pandas\n",
    "\n",
    "\"\"\"\n",
    "import numpy as np\n",
    "import pandas as pd\n",
    "\n",
    "ohlc = pd.read_parquet(\"../v4/src/DAT_ASCII_XAUUSD_M1_2024.parquet\")\n",
    "\n",
    "print (ohlc)"
   ]
  },
  {
   "cell_type": "code",
   "execution_count": null,
   "id": "f9fffb03",
   "metadata": {},
   "outputs": [],
   "source": [
    "# vlines_index = [datetime(2023, 1, 2), datetime(2023, 1, 3), ...]\n",
    "\n",
    "vlines_addplot_config = [\n",
    "    {\n",
    "        # Use 'vlines' key to specify where the lines go (the index values)\n",
    "        'vlines': vlines_index,\n",
    "        # Optionally, you can specify color, linestyle, etc.\n",
    "        'colors': 'grey',\n",
    "        'linestyle': 'dashed'\n",
    "    }\n",
    "]"
   ]
  }
 ],
 "metadata": {
  "kernelspec": {
   "display_name": "Chartter-2",
   "language": "python",
   "name": "myproject"
  },
  "language_info": {
   "name": "python",
   "version": "3.13.0"
  }
 },
 "nbformat": 4,
 "nbformat_minor": 5
}
