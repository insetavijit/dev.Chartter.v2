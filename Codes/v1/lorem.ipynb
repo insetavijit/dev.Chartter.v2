{
 "cells": [
  {
   "cell_type": "code",
   "execution_count": null,
   "id": "c91d4b83",
   "metadata": {},
   "outputs": [],
   "source": [
    "import pandas as pd\n",
    "import mplfinance as mpf\n",
    "import talib"
   ]
  },
  {
   "cell_type": "code",
   "execution_count": null,
   "id": "2d2012d0",
   "metadata": {},
   "outputs": [],
   "source": [
    "Query = \"\"\"\n",
    "Stop above EMA_51\n",
    "\"\"\""
   ]
  },
  {
   "cell_type": "code",
   "execution_count": null,
   "id": "f447688d",
   "metadata": {},
   "outputs": [],
   "source": [
    "ohlc = pd.read_csv(\"../Src/xauusdm15.filtered.csv\")\n",
    "ohlc.head(3)"
   ]
  },
  {
   "cell_type": "code",
   "execution_count": null,
   "id": "ae3198c5",
   "metadata": {},
   "outputs": [],
   "source": [
    "indigs = pd.DataFrame({\n",
    "    \"RSI_14\": talib.RSI(ohlc['Close'], timeperiod=14),\n",
    "    \"EMA_21\": talib.SMA(ohlc['Close'], timeperiod=20),\n",
    "    \"EMA_51\": talib.EMA(ohlc['Close'], timeperiod=50),\n",
    "})\n",
    "\n",
    "indigs.head(3)"
   ]
  },
  {
   "cell_type": "code",
   "execution_count": null,
   "id": "3f3fed1e",
   "metadata": {},
   "outputs": [],
   "source": [
    "# Join side by side\n",
    "dta = ohlc.join(indigs)\n",
    "\n",
    "dta['DateTime'] = pd.to_datetime(dta['DateTime'])\n",
    "dta = dta.set_index('DateTime')\n",
    "\n",
    "dta.tail(3)\n"
   ]
  },
  {
   "cell_type": "code",
   "execution_count": null,
   "id": "0701563b",
   "metadata": {},
   "outputs": [],
   "source": [
    "def Chartter (df_show , apds ):\n",
    "    mpf.plot(\n",
    "        df_show,                   # DataFrame with Open, High, Low, Close, Volume\n",
    "        type='candle',             # 'candle', 'ohlc', 'line', 'renko', 'pnf'\n",
    "        style='charles',             # 'yahoo', 'charles', 'nightclouds', or custom dict\n",
    "        addplot=apds,              # list of mpf.make_addplot()\n",
    "        # volume=True,               # show volume subplot\n",
    "        # volume_panel=2,            # put volume in panel 2 (0=main, 1=RSI, 2=volume)\n",
    "        # figsize=(12, 8),           # (width, height) in inches\n",
    "        title='My Chart Example',  # title above chart\n",
    "        ylabel='Price',            # left y-axis label\n",
    "        ylabel_lower='Volume',     # lower panel label\n",
    "        xlabel='Date',             # x-axis label\n",
    "        figratio=(16, 5),          # aspect ratio\n",
    "        # figscale=1.2,              # scale figure size\n",
    "        panel_ratios=(3,1),      # relative heights of panels (candles, RSI, volume)\n",
    "        tight_layout=True,         # auto-fit layout\n",
    "        datetime_format='%Y-%m-%d %H:%M',  # x-axis datetime formatting\n",
    "        xrotation=20,              # rotate x-tick labels\n",
    "        returnfig=False,           # True = return (fig, axes) instead of plotting\n",
    "        warn_too_much_data=10000,  # suppress warning for large datasets\n",
    "        update_width_config=dict(  # control candle/bar width\n",
    "            candle_linewidth=1.0,\n",
    "            candle_width=0.6,\n",
    "            ohlc_linewidth=1.0,\n",
    "            volume_linewidth=1.0\n",
    "        )\n",
    "    )\n"
   ]
  },
  {
   "cell_type": "code",
   "execution_count": null,
   "id": "8c49e808",
   "metadata": {},
   "outputs": [],
   "source": [
    "dta_show = dta.iloc[100:151]\n",
    "\n",
    "apds = [\n",
    "    mpf.make_addplot(\n",
    "        dta_show['EMA_51'],               # Series or array-like (y-values)\n",
    "        panel=0,            # which subplot (0=main chart, 1=below, etc.)\n",
    "        color='blue',       # line or marker color\n",
    "        type='line',        # 'line', 'scatter', 'bar'\n",
    "        linestyle='-',      # '-', '--', '-.', ':'\n",
    "        width=1.0,          # line thickness\n",
    "        alpha=1.0,          # transparency (0-1)\n",
    "        # secondary_y=False,  # plot against right-hand axis if True\n",
    "        # scatter=False,      # shortcut for type='scatter'\n",
    "        # markersize=10,      # size of scatter points\n",
    "        # marker='o',         # scatter/line marker (o, x, ^, v, etc.)\n",
    "        # ylabel='',          # label on y-axis\n",
    "        # ylim=None,          # (min, max) for axis scaling\n",
    "    ),\n",
    "    mpf.make_addplot(dta_show['EMA_21'], color='orange'),\n",
    "    mpf.make_addplot(dta_show['RSI_14'], panel=1, color='purple')  # panel=1 means separate subplot\n",
    "]\n",
    "\n",
    "Chartter(dta_show, apds);"
   ]
  }
 ],
 "metadata": {
  "kernelspec": {
   "display_name": "Chartter-2",
   "language": "python",
   "name": "myproject"
  },
  "language_info": {
   "codemirror_mode": {
    "name": "ipython",
    "version": 3
   },
   "file_extension": ".py",
   "mimetype": "text/x-python",
   "name": "python",
   "nbconvert_exporter": "python",
   "pygments_lexer": "ipython3",
   "version": "3.13.0"
  }
 },
 "nbformat": 4,
 "nbformat_minor": 5
}
