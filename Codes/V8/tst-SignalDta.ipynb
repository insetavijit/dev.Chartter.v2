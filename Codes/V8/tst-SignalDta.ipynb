{
 "cells": [
  {
   "cell_type": "code",
   "execution_count": null,
   "id": "75319818",
   "metadata": {},
   "outputs": [],
   "source": [
    "\"\"\"  Lorem Ipsum Doller \"\"\""
   ]
  },
  {
   "cell_type": "code",
   "execution_count": null,
   "id": "2afbd2cb",
   "metadata": {},
   "outputs": [],
   "source": [
    "import backtrader as bt\n",
    "import pandas as pd\n",
    "import numpy as np\n",
    "from datetime import datetime\n",
    "import warnings\n",
    "import mplfinance as mpf\n",
    "import matplotlib.patches as mpatches\n",
    "\n",
    "\n",
    "# -----------------------------\n",
    "# 1. Load Data\n",
    "# -----------------------------\n",
    "dta = pd.read_parquet(\"sampleSignal.parquet\")\n",
    "dta.index = pd.to_datetime(dta.index)\n",
    "dta_bt = dta.reset_index().rename(columns={'index': 'datetime'})\n",
    "dta_bt = dta_bt[['datetime','open','high','low','close','volume','RSI_14_crossed_up_EMA_15','SL','TP']]\n"
   ]
  },
  {
   "cell_type": "code",
   "execution_count": null,
   "id": "d48d27e5",
   "metadata": {},
   "outputs": [],
   "source": [
    "signal_times = dta[dta['RSI_14_crossed_up_EMA_15'] == 1].index.to_list()"
   ]
  },
  {
   "cell_type": "code",
   "execution_count": null,
   "id": "15df3f21",
   "metadata": {},
   "outputs": [],
   "source": [
    "dta"
   ]
  },
  {
   "cell_type": "code",
   "execution_count": null,
   "id": "ac6de9bd",
   "metadata": {},
   "outputs": [],
   "source": [
    "from bktst import EnterpriseTradingFramework\n",
    "\n",
    "\n",
    "framework = EnterpriseTradingFramework()\n",
    "\n",
    "# Example usage (commented)\n",
    "results = framework.run_backtest(dta, commission = 0)\n"
   ]
  },
  {
   "cell_type": "code",
   "execution_count": null,
   "id": "8e9ae3f7",
   "metadata": {},
   "outputs": [],
   "source": [
    "trades = results['trades_table']\n",
    "\n",
    "#dict_keys(['orders_table', 'trades_table', 'account_summary', 'daily_summary', 'analyzers', 'strategy'])"
   ]
  },
  {
   "cell_type": "code",
   "execution_count": null,
   "id": "0d402a75",
   "metadata": {},
   "outputs": [],
   "source": [
    "row_numbers = dta.index.get_indexer(trades['datetime_entry'])\n",
    "\n",
    "# Entry/Exit prices\n",
    "entry_array = trades['entry_price'].to_numpy()\n",
    "exit_array = trades['exit_price'].to_numpy()\n",
    "\n",
    "# SL/TP prices\n",
    "sl_array = trades['sl_level'].to_numpy()  # assuming trades also has SL\n",
    "tp_array = trades['tp_level'].to_numpy()  # assuming trades also has TP\n",
    "\n",
    "# Structured arrays\n",
    "entry_exit_arr = np.zeros(len(trades), dtype=[('row', int), ('entry', float), ('exit', float)])\n",
    "entry_exit_arr['row'] = row_numbers\n",
    "entry_exit_arr['entry'] = entry_array\n",
    "entry_exit_arr['exit'] = exit_array\n",
    "\n",
    "sltp_arr = np.zeros(len(trades), dtype=[('row', int), ('SL', float), ('TP', float)])\n",
    "sltp_arr['row'] = row_numbers\n",
    "sltp_arr['SL'] = sl_array\n",
    "sltp_arr['TP'] = tp_array"
   ]
  },
  {
   "cell_type": "code",
   "execution_count": null,
   "id": "fc6cdb2d",
   "metadata": {},
   "outputs": [],
   "source": [
    "from ChartterX5 import Chartter\n",
    "\n",
    "# Initialize chartter with wider and less tall proportions, no volume\n",
    "chartter = Chartter(config={\n",
    "    'chart_type': 'candle',\n",
    "    'style': 'charles',\n",
    "    'figratio': (20, 8),  # Adjusted for wider and less tall chart\n",
    "    'volume': False  # Disable volume bars\n",
    "})\n",
    "\n",
    "# --- TradingView Market Colors ---\n",
    "tv_mc = mpf.make_marketcolors(\n",
    "    up='#26a69a',         # TradingView teal green for up candles\n",
    "    down='#ef5350',       # TradingView red for down candles\n",
    "    edge='inherit',       # Clean edges matching candle color\n",
    "    wick='inherit',       # Wicks match candle colors\n",
    ")\n",
    "\n",
    "# --- TradingView Dark Theme ---\n",
    "tradingview_dark = mpf.make_mpf_style(\n",
    "    base_mpf_style='nightclouds',  # Start with dark base\n",
    "    marketcolors=tv_mc,\n",
    "\n",
    "    # TradingView dark theme colors\n",
    "    figcolor='#131722',           # Dark navy background\n",
    "    facecolor='#1e222d',          # Dark gray chart area\n",
    "    gridcolor='#363a45',          # Dark gray grid\n",
    "    gridstyle='-',                # Solid grid lines\n",
    "\n",
    "    y_on_right=True,              # Price axis on right\n",
    "\n",
    "    rc={\n",
    "        # TradingView typography\n",
    "        # 'font.family': ['-apple-system', 'BlinkMacSystemFont', 'Trebuchet MS', 'Roboto', 'Ubuntu', 'sans-serif'],\n",
    "        'axes.labelsize': 10,\n",
    "        'axes.titlesize': 14,\n",
    "        'xtick.labelsize': 9,\n",
    "        'ytick.labelsize': 7,         # Reduced size for price tick labels\n",
    "        'legend.fontsize': 9,\n",
    "\n",
    "        # Clean spacing with reduced left padding and full-width chart\n",
    "        'axes.labelpad': 10,\n",
    "        'xtick.major.pad': 6,\n",
    "        'ytick.major.pad': 6,\n",
    "        'axes.xmargin': 0,            # Remove left/right margins\n",
    "        'axes.ymargin': 0,            # Remove top/bottom margins\n",
    "        'figure.subplot.left': 0.05,  # Minimize left subplot padding\n",
    "        'figure.subplot.right': 0.95, # Maximize right subplot to fit price scale\n",
    "\n",
    "        # TradingView-style lines\n",
    "        'lines.linewidth': 1.5,\n",
    "        'lines.antialiased': True,\n",
    "\n",
    "        # Clean borders and colors\n",
    "        'axes.edgecolor': '#434651',  # Darker edge for dark theme\n",
    "        'axes.linewidth': 1,\n",
    "        'xtick.color': '#787b86',     # Light gray for x-axis ticks\n",
    "        'ytick.color': '#787b86',     # Light gray for y-axis ticks\n",
    "        'axes.labelcolor': 'none',    # Hide axis label color (labels are empty)\n",
    "\n",
    "        # Grid styling\n",
    "        'axes.grid': True,\n",
    "        'axes.axisbelow': True,\n",
    "        'grid.alpha': 0.6,            # Slightly more transparent for dark theme\n",
    "        'grid.linewidth': 0.8,\n",
    "\n",
    "        # Clean spines (show right spine for price scale)\n",
    "        'axes.spines.left': True,\n",
    "        'axes.spines.bottom': True,\n",
    "        'axes.spines.top': False,\n",
    "        'axes.spines.right': True,    # Show right spine for price scale\n",
    "        'ytick.right': True,          # Show right y-axis ticks\n",
    "    }\n",
    ")\n"
   ]
  },
  {
   "cell_type": "code",
   "execution_count": null,
   "id": "4a2b7a87",
   "metadata": {},
   "outputs": [],
   "source": [
    "dpart = dta\n",
    "\n",
    "tradingview_config_4H = {\n",
    "    'title': 'XAUUSD, 4H',                # TradingView style title\n",
    "    'style': tradingview_dark,             # Use dark theme\n",
    "    'type': 'candle',\n",
    "    'volume': False,                      # Disable volume bars\n",
    "    'show_nontrading': False,             # Ensure no extra y-axis spacing\n",
    "    'datetime_format': '%Y-%m-%d',        # Format x-axis to show date only\n",
    "    'xlabel': '',                         # Remove x-axis label\n",
    "    'ylabel': '',                         # Remove y-axis label\n",
    "    'xrotation': 0                        # Horizontal date labels\n",
    "}"
   ]
  },
  {
   "cell_type": "code",
   "execution_count": null,
   "id": "c22c222b",
   "metadata": {},
   "outputs": [],
   "source": [
    "# Access structured tables\n",
    "orders = results['orders_table']\n",
    "trades = results['trades_table']\n",
    "account = results['account_summary']\n",
    "daily = results['daily_summary']\n",
    "\n",
    "orders\n",
    "\n",
    "# trades\n",
    "\n",
    "# account"
   ]
  },
  {
   "cell_type": "code",
   "execution_count": null,
   "id": "4edbae4d",
   "metadata": {},
   "outputs": [],
   "source": [
    "import matplotlib.patches as mpatches\n",
    "\n",
    "def draw_boxes_border_only(ax, arr, y1_col, y2_col, edge_color='red', lw=1.5, alpha=1.0):\n",
    "    for row_data in arr:\n",
    "        row = row_data['row']\n",
    "        y1 = row_data[y1_col]\n",
    "        y2 = row_data[y2_col]\n",
    "        rect = mpatches.Rectangle(\n",
    "            (row - 0.5, y1),  # left bottom corner\n",
    "            1,                # width = 1 candle\n",
    "            y2 - y1,          # height\n",
    "            facecolor='none', # no fill\n",
    "            edgecolor=edge_color,\n",
    "            linewidth=lw,\n",
    "            alpha=alpha,\n",
    "            zorder=10         # Ensure it's drawn on top\n",
    "        )\n",
    "        ax.add_patch(rect)\n",
    "\n",
    "fig, axes = chartter.plot(\n",
    "    dpart,\n",
    "    addplot = [\n",
    "        mpf.make_addplot(dpart['RSI_14'], panel=1, color='purple', ylabel='RSI'),\n",
    "        mpf.make_addplot(dpart['EMA_15'], panel=1, color='blue', ylabel='ema15'),\n",
    "    ],\n",
    "    config=tradingview_config_4H,\n",
    "    returnfig=True\n",
    ")\n",
    "\n",
    "# Draw SL/TP boxes with border only\n",
    "draw_boxes_border_only(axes[0], sltp_arr, 'SL', 'TP', edge_color='white', lw=0.5)\n",
    "\n",
    "# Draw Entry/Exit boxes with border only\n",
    "draw_boxes_border_only(axes[0], entry_exit_arr, 'entry', 'exit', edge_color='red', lw=0.5)\n"
   ]
  },
  {
   "cell_type": "code",
   "execution_count": null,
   "id": "4bc9b233",
   "metadata": {},
   "outputs": [],
   "source": [
    "results['account_summary']"
   ]
  },
  {
   "cell_type": "code",
   "execution_count": null,
   "id": "d210d11b",
   "metadata": {},
   "outputs": [],
   "source": [
    "\n",
    "results['trades_table']\n",
    "#dict_keys(['orders_table', 'trades_table', 'account_summary', 'daily_summary', 'analyzers', 'strategy'])"
   ]
  }
 ],
 "metadata": {
  "kernelspec": {
   "display_name": "Chartter-2",
   "language": "python",
   "name": "myproject"
  },
  "language_info": {
   "codemirror_mode": {
    "name": "ipython",
    "version": 3
   },
   "file_extension": ".py",
   "mimetype": "text/x-python",
   "name": "python",
   "nbconvert_exporter": "python",
   "pygments_lexer": "ipython3",
   "version": "3.13.0"
  }
 },
 "nbformat": 4,
 "nbformat_minor": 5
}
