{
 "cells": [
  {
   "cell_type": "code",
   "execution_count": 1,
   "id": "815b658e",
   "metadata": {},
   "outputs": [
    {
     "data": {
      "text/plain": [
       "'Convert mt5 1min Candels to parquet'"
      ]
     },
     "execution_count": 1,
     "metadata": {},
     "output_type": "execute_result"
    }
   ],
   "source": [
    "\"\"\"Convert mt5 1min Candels to parquet\"\"\""
   ]
  },
  {
   "cell_type": "code",
   "execution_count": 2,
   "id": "30ebd621",
   "metadata": {},
   "outputs": [
    {
     "name": "stderr",
     "output_type": "stream",
     "text": [
      "/tmp/ipykernel_3411/4161696385.py:3: DtypeWarning: Columns (2,3,4,5,6,7,8) have mixed types. Specify dtype option on import or set low_memory=False.\n",
      "  df = pd.read_csv(\"./src/XAUUSDc_M1_mt5.csv\",\n"
     ]
    }
   ],
   "source": [
    "import pandas as pd\n",
    "\n",
    "df = pd.read_csv(\"./src/XAUUSDc_M1_mt5.csv\",\n",
    "    sep=\"\\t\",  # split on tab\n",
    "    header=None,\n",
    "    names=[\"date\", \"time\", \"open\", \"high\", \"low\", \"close\", \"tickvol\", \"vol\", \"spread\"]\n",
    ")"
   ]
  },
  {
   "cell_type": "code",
   "execution_count": 3,
   "id": "47c65053",
   "metadata": {},
   "outputs": [
    {
     "name": "stdout",
     "output_type": "stream",
     "text": [
      "✅ Saved cleaned OHLC + tickvol data to ohlcv.parquet (no index)\n"
     ]
    }
   ],
   "source": [
    "# Remove placeholder row\n",
    "df = df[df[\"date\"] != \"<DATE>\"].copy()\n",
    "\n",
    "# Build datetime column\n",
    "df[\"datetime\"] = pd.to_datetime(\n",
    "    df[\"date\"] + \" \" + df[\"time\"], format=\"%Y.%m.%d %H:%M:%S\"\n",
    ")\n",
    "\n",
    "# Convert numeric columns\n",
    "for col in [\"open\", \"high\", \"low\", \"close\", \"tickvol\", \"vol\", \"spread\"]:\n",
    "    df[col] = pd.to_numeric(df[col], errors=\"coerce\")\n",
    "\n",
    "# Drop raw date/time and unused columns\n",
    "df = df.drop(columns=[\"date\", \"time\", \"vol\", \"spread\"])\n",
    "\n",
    "# Save as parquet WITHOUT index\n",
    "df.to_parquet(\"ohlcv-1M-mt5.parquet\", engine=\"pyarrow\", index=False)\n",
    "\n",
    "print(\"✅ Saved cleaned OHLC + tickvol data to ohlcv.parquet (no index)\")\n"
   ]
  }
 ],
 "metadata": {
  "kernelspec": {
   "display_name": "Chartter-2",
   "language": "python",
   "name": "myproject"
  },
  "language_info": {
   "codemirror_mode": {
    "name": "ipython",
    "version": 3
   },
   "file_extension": ".py",
   "mimetype": "text/x-python",
   "name": "python",
   "nbconvert_exporter": "python",
   "pygments_lexer": "ipython3",
   "version": "3.13.0"
  }
 },
 "nbformat": 4,
 "nbformat_minor": 5
}
