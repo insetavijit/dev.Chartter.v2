{
 "cells": [
  {
   "cell_type": "markdown",
   "id": "8bcfe17a",
   "metadata": {},
   "source": [
    "Here i want to collect data from verious sources :"
   ]
  },
  {
   "cell_type": "code",
   "execution_count": null,
   "metadata": {},
   "outputs": [],
   "source": []
  }
 ],
 "metadata": {
  "language_info": {
   "name": "python"
  }
 },
 "nbformat": 4,
 "nbformat_minor": 5
}
