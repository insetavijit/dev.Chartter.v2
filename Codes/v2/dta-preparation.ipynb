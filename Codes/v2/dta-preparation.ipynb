{
 "cells": [
  {
   "cell_type": "markdown",
   "id": "66fb7763",
   "metadata": {},
   "source": [
    "Then innisial goal was to create multiple tables for better data handling\n",
    "and filterring like \n",
    "\n",
    "Chart:1D -- 3Y range <1008>\n",
    "Chart:4H -- 1Y range <1440> [6*5*4*12]\n",
    "\n",
    "Chart:1H -- 1M range <672> [24*7*4]\n",
    "--\n",
    "Chart:15MIN - 1ST Week | Chart:15MIN - 1ST Week <480> [4*24*5] or 672 [(4*24*7)] * 2\n",
    "Chart:15MIN - 3ED Week | Chart:15MIN - 4th Week <480> [4*24*5] or 672 [(4*24*7)] * 2\n",
    "--\n",
    "Chart:15MIN - Currunt week <480> [4*24*5] or 672 [(4*24*7)] * 2\n",
    "Chart:5MIN - 1ST DAY | Chart:1MIN - 2ND DAY <288> [60/5*24]\n",
    "Chart:5MIN - 3ND DAY | Chart:1MIN - 4ND DAY <288> [60/5*24]\n",
    "Chart:1MIN - Current Day <1440> [60*24]\n",
    "---\n",
    "trading Chart:\n",
    "    | 01H\n",
    "1M  +------\n",
    "    | 15M"
   ]
  },
  {
   "cell_type": "code",
   "execution_count": 24,
   "id": "ddbfc00e",
   "metadata": {},
   "outputs": [
    {
     "name": "stdout",
     "output_type": "stream",
     "text": [
      "             DateTime      Open      High       Low     Close  Volume\n",
      "0 2024-01-01 23:00:00  2064.593  2066.092  2063.301  2065.142      10\n",
      "1 2024-01-01 23:15:00  2065.159  2065.900  2064.443  2064.698      15\n",
      "2 2024-01-01 23:30:00  2064.664  2065.131  2063.634  2064.258      15\n",
      "3 2024-01-01 23:45:00  2064.259  2064.259  2062.643  2063.543      14\n",
      "4 2024-01-02 00:00:00  2063.347  2064.932  2063.331  2064.006      15\n",
      "5 2024-01-02 00:15:00  2064.015  2064.393  2062.175  2063.323      15\n",
      "6 2024-01-02 00:30:00  2063.323  2064.559  2062.831  2064.559      15\n",
      "7 2024-01-02 00:45:00  2064.588  2065.762  2064.322  2065.340      15\n",
      "8 2024-01-02 01:00:00  2065.341  2069.627  2064.870  2069.206      15\n",
      "9 2024-01-02 01:15:00  2069.248  2069.900  2067.144  2068.403      15\n",
      "(23172, 6)\n",
      "(23516, 5)\n"
     ]
    }
   ],
   "source": [
    "import pandas as pd\n",
    "\n",
    "# Load CSV\n",
    "ohlc = pd.read_csv(\"../Src/xauusdm15.filtered.csv\")\n",
    "\n",
    "# Convert DateTime column to datetime and set as index\n",
    "ohlc['DateTime'] = pd.to_datetime(ohlc['DateTime'])\n",
    "ohlc = ohlc.set_index('DateTime')\n",
    "\n",
    "# Remove Saturday (5) and Sunday (6)\n",
    "ohlc_weekdays = ohlc[~ohlc.index.dayofweek.isin([5, 6])]\n",
    "\n",
    "# Optional: reset index if you want DateTime as a column again\n",
    "ohlc_weekdays = ohlc_weekdays.reset_index()\n",
    "\n",
    "# Check result\n",
    "print(ohlc_weekdays.head(10))\n",
    "print(ohlc_weekdays.shape)\n",
    "print(ohlc.shape)\n",
    "\n"
   ]
  }
 ],
 "metadata": {
  "kernelspec": {
   "display_name": "Chartter-2",
   "language": "python",
   "name": "myproject"
  },
  "language_info": {
   "codemirror_mode": {
    "name": "ipython",
    "version": 3
   },
   "file_extension": ".py",
   "mimetype": "text/x-python",
   "name": "python",
   "nbconvert_exporter": "python",
   "pygments_lexer": "ipython3",
   "version": "3.13.0"
  }
 },
 "nbformat": 4,
 "nbformat_minor": 5
}
