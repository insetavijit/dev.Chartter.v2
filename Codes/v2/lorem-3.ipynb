{
 "cells": [
  {
   "cell_type": "code",
   "execution_count": null,
   "id": "1286c391",
   "metadata": {},
   "outputs": [],
   "source": [
    "import pandas as pd\n",
    "\n",
    "# Load CSV\n",
    "ohlc = pd.read_csv(\"../Src/xauusdm15.filtered.csv\")\n",
    "\n",
    "# Convert DateTime column to datetime and set as index\n",
    "ohlc['DateTime'] = pd.to_datetime(ohlc['DateTime'])\n",
    "ohlc = ohlc.set_index('DateTime')"
   ]
  }
 ],
 "metadata": {
  "kernelspec": {
   "display_name": "Chartter-2",
   "language": "python",
   "name": "myproject"
  },
  "language_info": {
   "name": "python",
   "version": "3.13.0"
  }
 },
 "nbformat": 4,
 "nbformat_minor": 5
}
