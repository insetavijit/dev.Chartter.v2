{
 "cells": [
  {
   "cell_type": "code",
   "execution_count": null,
   "id": "9e7d5de5",
   "metadata": {},
   "outputs": [],
   "source": [
    "import pandas as pd\n",
    "\n",
    "Namefile = \"EURUSD1\""
   ]
  },
  {
   "cell_type": "code",
   "execution_count": null,
   "id": "23761554",
   "metadata": {},
   "outputs": [],
   "source": [
    "src = \"../Src/\" + Namefile + \".csv\"\n",
    "headers = [\"datetime\",\"open\",\"high\",\"low\",\"close\",\"vol\",\"spr\"]\n",
    "\n",
    "df = pd.read_csv(src,sep=\"\\t\", header=None, names = headers)\n",
    "\n",
    "df['datetime'] = pd.to_datetime(df['datetime'])\n",
    "\n",
    "print(df)"
   ]
  },
  {
   "cell_type": "code",
   "execution_count": null,
   "id": "cc390b91",
   "metadata": {},
   "outputs": [],
   "source": [
    "start_date = \"2025-04-1\"\n",
    "end_date   = \"2025-09-01\"\n",
    "\n",
    "df_filtered = df[(df['datetime'] >= start_date) & (df['datetime'] <= end_date)]\n",
    "\n",
    "print (df_filtered)\n"
   ]
  },
  {
   "cell_type": "code",
   "execution_count": null,
   "id": "45a2e94d",
   "metadata": {},
   "outputs": [],
   "source": [
    "Cleaned_dta = df_filtered.drop(columns=[\"spr\"])\n",
    "\n",
    "print (Cleaned_dta)"
   ]
  },
  {
   "cell_type": "code",
   "execution_count": null,
   "id": "870d8c7f",
   "metadata": {},
   "outputs": [],
   "source": [
    "\n",
    "# --- Step 5: Save as Parquet for fast reading ---\n",
    "# Make sure pyarrow or fastparquet is installed: pip install pyarrow\n",
    "Cleaned_dta.to_parquet(Namefile + \".parquet\", engine=\"pyarrow\", index=False)\n",
    "\n",
    "# --- Step 6: Read back quickly ---\n",
    "df_fast = pd.read_parquet(Namefile + \".parquet\", engine=\"pyarrow\")\n",
    "print(df_fast.head())\n"
   ]
  }
 ],
 "metadata": {
  "kernelspec": {
   "display_name": "Chartter-2",
   "language": "python",
   "name": "myproject"
  },
  "language_info": {
   "codemirror_mode": {
    "name": "ipython",
    "version": 3
   },
   "file_extension": ".py",
   "mimetype": "text/x-python",
   "name": "python",
   "nbconvert_exporter": "python",
   "pygments_lexer": "ipython3",
   "version": "3.13.0"
  }
 },
 "nbformat": 4,
 "nbformat_minor": 5
}
