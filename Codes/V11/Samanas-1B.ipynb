{
 "cells": [
  {
   "cell_type": "code",
   "execution_count": null,
   "id": "ac99a6db",
   "metadata": {},
   "outputs": [],
   "source": [
    "from express import main ,TradingVisualizer,TradingConfig"
   ]
  },
  {
   "cell_type": "code",
   "execution_count": null,
   "id": "0abf95d1",
   "metadata": {},
   "outputs": [],
   "source": [
    "results = main()"
   ]
  },
  {
   "cell_type": "code",
   "execution_count": null,
   "id": "1a72a251",
   "metadata": {},
   "outputs": [],
   "source": [
    "results.keys()"
   ]
  },
  {
   "cell_type": "code",
   "execution_count": null,
   "id": "8bdb718f",
   "metadata": {},
   "outputs": [],
   "source": [
    "cnf = TradingConfig\n",
    "\n",
    "view = TradingVisualizer(cnf)"
   ]
  },
  {
   "cell_type": "code",
   "execution_count": null,
   "id": "698af170",
   "metadata": {},
   "outputs": [],
   "source": [
    "view._setup_tradingview_theme()"
   ]
  },
  {
   "cell_type": "code",
   "execution_count": null,
   "id": "2be5b26b",
   "metadata": {},
   "outputs": [],
   "source": [
    "view.tradingview_style"
   ]
  },
  {
   "cell_type": "code",
   "execution_count": null,
   "id": "5e9169d2",
   "metadata": {},
   "outputs": [],
   "source": [
    "# results['signals_data']\n",
    "# results['final_data']\n",
    "results['signal_array']\n",
    "# results['backtest']\n",
    "# results['charts']\n",
    "# results['performance_summary']\n",
    "# results['processed_data']"
   ]
  },
  {
   "cell_type": "code",
   "execution_count": null,
   "id": "8e8eb5d6",
   "metadata": {},
   "outputs": [],
   "source": [
    "dta = results['signals_data']\n",
    "# dta"
   ]
  },
  {
   "cell_type": "code",
   "execution_count": null,
   "id": "8a930f62",
   "metadata": {},
   "outputs": [],
   "source": [
    "from ChartterX5 import Chartter\n",
    "import pandas as pd\n",
    "import numpy as np\n",
    "import mplfinance as mpf\n",
    "import matplotlib.patches as mpatches\n",
    "\n",
    "dpart = dta[100:251]\n",
    "chartter  = Chartter()"
   ]
  },
  {
   "cell_type": "code",
   "execution_count": null,
   "id": "6c0142b5",
   "metadata": {},
   "outputs": [],
   "source": [
    "dta = results['final_data']\n",
    "signals = results['signal_array']"
   ]
  },
  {
   "cell_type": "code",
   "execution_count": null,
   "id": "5f6a727a",
   "metadata": {},
   "outputs": [],
   "source": [
    "def draw_risk_reward_boxes(ax, trades_array):\n",
    "    for trade in trades_array:\n",
    "        row = trade['row']\n",
    "        close_price = trade['close']\n",
    "        sl = trade['SL']\n",
    "        tp = trade['TP']\n",
    "\n",
    "        # --- Risk box: close → SL ---\n",
    "        risk_bottom = min(close_price, sl)\n",
    "        risk_height = abs(close_price - sl)\n",
    "        risk_rect = mpatches.Rectangle(\n",
    "            (row - 0.5, risk_bottom),\n",
    "            1,                 # width = 1 candle\n",
    "            risk_height,\n",
    "            color='red',\n",
    "            alpha=0.3\n",
    "        )\n",
    "        ax.add_patch(risk_rect)\n",
    "\n",
    "        # --- Reward box: close → TP ---\n",
    "        reward_bottom = min(close_price, tp)\n",
    "        reward_height = abs(close_price - tp)\n",
    "        reward_rect = mpatches.Rectangle(\n",
    "            (row - 0.5, reward_bottom),\n",
    "            1,\n",
    "            reward_height,\n",
    "            color='green',\n",
    "            alpha=0.3\n",
    "        )\n",
    "        ax.add_patch(reward_rect)\n"
   ]
  },
  {
   "cell_type": "code",
   "execution_count": null,
   "id": "cdb3027a",
   "metadata": {},
   "outputs": [],
   "source": [
    "\n",
    "chart_data = dta.rename(columns={\n",
    "                'Open': 'open',\n",
    "                'High': 'high',\n",
    "                'Low': 'low',\n",
    "                'Close': 'close',\n",
    "                'Volume': 'volume'\n",
    "            })"
   ]
  },
  {
   "cell_type": "code",
   "execution_count": null,
   "id": "f436c254",
   "metadata": {},
   "outputs": [],
   "source": [
    "fig, axes = chartter.plot(\n",
    "    chart_data,\n",
    "    addplot = [\n",
    "        mpf.make_addplot(chart_data['RSI_14'], panel=1, color='purple', ylabel='RSI'),\n",
    "        mpf.make_addplot(chart_data['EMA_15'], panel=1, color='blue', ylabel='ema15'),\n",
    "    ],\n",
    "    config={\n",
    "    'title': ' ',\n",
    "    'style': view.tradingview_style,\n",
    "    'volume': False,                      # Disable volume bars\n",
    "    'show_nontrading': False,             # Ensure no extra y-axis spacing\n",
    "    'datetime_format': '%Y-%m-%d',        # Format x-axis to show date only\n",
    "    'xlabel': '',                         # Remove x-axis label\n",
    "    'ylabel': '',                         # Remove y-axis label\n",
    "    'xrotation': 0                        # Horizontal date labels\n",
    "},\n",
    "    returnfig=True\n",
    ")\n",
    "\n",
    "draw_risk_reward_boxes(axes[0], signals)"
   ]
  },
  {
   "cell_type": "code",
   "execution_count": null,
   "id": "a3f0d8cb",
   "metadata": {},
   "outputs": [],
   "source": [
    "results.keys()"
   ]
  },
  {
   "cell_type": "code",
   "execution_count": null,
   "id": "8513ca08",
   "metadata": {},
   "outputs": [],
   "source": [
    "results['backtest'].keys()\n"
   ]
  },
  {
   "cell_type": "code",
   "execution_count": null,
   "id": "79f18478",
   "metadata": {},
   "outputs": [],
   "source": [
    "trads_table = results['backtest']['trades_table']\n"
   ]
  },
  {
   "cell_type": "code",
   "execution_count": null,
   "id": "49aae27a",
   "metadata": {},
   "outputs": [],
   "source": [
    "trads_table"
   ]
  },
  {
   "cell_type": "code",
   "execution_count": null,
   "id": "6009edda",
   "metadata": {},
   "outputs": [],
   "source": [
    "trads_table['pnl'].sum()"
   ]
  }
 ],
 "metadata": {
  "kernelspec": {
   "display_name": "Chartter-2",
   "language": "python",
   "name": "myproject"
  },
  "language_info": {
   "codemirror_mode": {
    "name": "ipython",
    "version": 3
   },
   "file_extension": ".py",
   "mimetype": "text/x-python",
   "name": "python",
   "nbconvert_exporter": "python",
   "pygments_lexer": "ipython3",
   "version": "3.13.0"
  }
 },
 "nbformat": 4,
 "nbformat_minor": 5
}
