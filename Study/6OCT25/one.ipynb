{
 "cells": [
  {
   "cell_type": "code",
   "execution_count": null,
   "id": "7c7f8877",
   "metadata": {},
   "outputs": [],
   "source": [
    "print (\"hi after a long of 1 week\")"
   ]
  },
  {
   "cell_type": "code",
   "execution_count": null,
   "id": "cf9efa96",
   "metadata": {},
   "outputs": [],
   "source": [
    "import pandas as pd\n",
    "\n",
    "df = pd.read_csv(\"../SRC/Tomato-mandi-price-data.csv\")\n",
    "dta = df [['Commodity', 'Arrival Date', 'Variety', 'State', 'District', 'Market','Min Price', 'Max Price', 'Avg price']]"
   ]
  },
  {
   "cell_type": "code",
   "execution_count": null,
   "id": "7c656751",
   "metadata": {},
   "outputs": [],
   "source": [
    "dta.head(3)"
   ]
  }
 ],
 "metadata": {
  "kernelspec": {
   "display_name": "Chartter-2",
   "language": "python",
   "name": "myproject"
  },
  "language_info": {
   "codemirror_mode": {
    "name": "ipython",
    "version": 3
   },
   "file_extension": ".py",
   "mimetype": "text/x-python",
   "name": "python",
   "nbconvert_exporter": "python",
   "pygments_lexer": "ipython3",
   "version": "3.13.0"
  }
 },
 "nbformat": 4,
 "nbformat_minor": 5
}
